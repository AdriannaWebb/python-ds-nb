{
 "cells": [
  {
   "cell_type": "markdown",
   "id": "1f25b5e4",
   "metadata": {},
   "source": [
    "# Question 10 \n",
    "## Adrianna Webb\n",
    "This notebook was created to answer question 10 from python-ds.ipynb."
   ]
  },
  {
   "cell_type": "code",
   "execution_count": 2,
   "id": "7863e445",
   "metadata": {},
   "outputs": [
    {
     "name": "stdout",
     "output_type": "stream",
     "text": [
      "*      *\n",
      "**    **\n",
      "***  ***\n",
      "********\n"
     ]
    }
   ],
   "source": [
    "for i in range(1, 4):\n",
    "    left_stars = '*' * i\n",
    "    spaces = ' '  * (8 - 2*i)\n",
    "    right_stars = '*' * i\n",
    "    print(left_stars + spaces + right_stars)\n",
    "\n",
    "\n",
    "print('*' * 8)"
   ]
  }
 ],
 "metadata": {
  "kernelspec": {
   "display_name": ".venv",
   "language": "python",
   "name": "python3"
  },
  "language_info": {
   "codemirror_mode": {
    "name": "ipython",
    "version": 3
   },
   "file_extension": ".py",
   "mimetype": "text/x-python",
   "name": "python",
   "nbconvert_exporter": "python",
   "pygments_lexer": "ipython3",
   "version": "3.12.9"
  }
 },
 "nbformat": 4,
 "nbformat_minor": 5
}
